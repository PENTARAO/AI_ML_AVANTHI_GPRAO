{
  "nbformat": 4,
  "nbformat_minor": 0,
  "metadata": {
    "colab": {
      "provenance": [],
      "authorship_tag": "ABX9TyO3so5SgH9e9mSxcx0ebWX+",
      "include_colab_link": true
    },
    "kernelspec": {
      "name": "python3",
      "display_name": "Python 3"
    },
    "language_info": {
      "name": "python"
    }
  },
  "cells": [
    {
      "cell_type": "markdown",
      "metadata": {
        "id": "view-in-github",
        "colab_type": "text"
      },
      "source": [
        "<a href=\"https://colab.research.google.com/github/PENTARAO/AI_ML_AVANTHI_GPRAO/blob/main/Untitled2.ipynb\" target=\"_parent\"><img src=\"https://colab.research.google.com/assets/colab-badge.svg\" alt=\"Open In Colab\"/></a>"
      ]
    },
    {
      "cell_type": "code",
      "execution_count": 2,
      "metadata": {
        "colab": {
          "base_uri": "https://localhost:8080/"
        },
        "id": "pbiyK2NQvQYv",
        "outputId": "1c6fdc6c-f806-4051-f29d-9292fe14dc60"
      },
      "outputs": [
        {
          "output_type": "stream",
          "name": "stdout",
          "text": [
            "Enter a number:65\n",
            "given numberb is not a prime number\n"
          ]
        }
      ],
      "source": [
        "#finding the prime number\n",
        "x=int(input(\"Enter a number:\"))\n",
        "factors = 0\n",
        "for i in range (1,x+1):\n",
        "  if x%i==0:\n",
        "    factors+=1\n",
        "if factors==2:\n",
        "  print(\"given number is a prime number\")\n",
        "else:\n",
        "    print (\"given numberb is not a prime number\")"
      ]
    }
  ]
}