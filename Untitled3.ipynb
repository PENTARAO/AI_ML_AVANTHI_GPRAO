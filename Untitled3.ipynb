{
  "nbformat": 4,
  "nbformat_minor": 0,
  "metadata": {
    "colab": {
      "provenance": [],
      "toc_visible": true,
      "authorship_tag": "ABX9TyNKWZ4f8K2WTfxp9iCKirzi",
      "include_colab_link": true
    },
    "kernelspec": {
      "name": "python3",
      "display_name": "Python 3"
    },
    "language_info": {
      "name": "python"
    }
  },
  "cells": [
    {
      "cell_type": "markdown",
      "metadata": {
        "id": "view-in-github",
        "colab_type": "text"
      },
      "source": [
        "<a href=\"https://colab.research.google.com/github/PENTARAO/AI_ML_AVANTHI_GPRAO/blob/main/Untitled3.ipynb\" target=\"_parent\"><img src=\"https://colab.research.google.com/assets/colab-badge.svg\" alt=\"Open In Colab\"/></a>"
      ]
    },
    {
      "cell_type": "code",
      "execution_count": null,
      "metadata": {
        "colab": {
          "base_uri": "https://localhost:8080/"
        },
        "id": "G9seUCyoeaJr",
        "outputId": "f67e10fb-8851-45aa-ca8e-c904f456cf7c"
      },
      "outputs": [
        {
          "output_type": "stream",
          "name": "stdout",
          "text": [
            "Enter a number:9\n",
            "Entere nber is a perfect square\n"
          ]
        }
      ],
      "source": [
        "X=int(input(\"Enter a number:\"))\n",
        "Factors =0\n",
        "for i in range(1, X+1) :\n",
        " if X%i==0:\n",
        "  Factors+=1\n",
        "if Factors%2==1:\n",
        " print(\"Entere nber is a perfect square\")\n",
        "else:\n",
        " print(\"Enter number is not a perfect square\")"
      ]
    },
    {
      "cell_type": "code",
      "source": [
        "X=int(input(\"Enter a number:\"))\n",
        "Factors=1\n",
        "for i in range(1, X+1) :\n",
        " Factors*=i\n",
        "print(Factors)"
      ],
      "metadata": {
        "colab": {
          "base_uri": "https://localhost:8080/"
        },
        "id": "MZH99pT8hzFG",
        "outputId": "149175b8-8459-4731-a3ef-15b8093613b5"
      },
      "execution_count": null,
      "outputs": [
        {
          "output_type": "stream",
          "name": "stdout",
          "text": [
            "Enter a number:4\n",
            "24\n"
          ]
        }
      ]
    }
  ]
}